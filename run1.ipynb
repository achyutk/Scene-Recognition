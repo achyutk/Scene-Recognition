{
 "cells": [
  {
   "cell_type": "code",
   "execution_count": 84,
   "id": "757bf88d",
   "metadata": {},
   "outputs": [],
   "source": [
    "#Importing necessary packages\n",
    "import os\n",
    "from PIL import Image\n",
    "import matplotlib.pyplot as plt\n",
    "import numpy as np\n",
    "import pandas as pd\n",
    "from sklearn.model_selection import train_test_split\n",
    "from sklearn.neighbors import KNeighborsClassifier\n",
    "from sklearn.metrics import accuracy_score, classification_report, confusion_matrix"
   ]
  },
  {
   "cell_type": "markdown",
   "id": "2fa4b8e9",
   "metadata": {},
   "source": [
    "## 1. Dataset preparation"
   ]
  },
  {
   "cell_type": "code",
   "execution_count": 85,
   "id": "791b518d",
   "metadata": {},
   "outputs": [],
   "source": [
    "data = {'img_path': [], 'label': []}\n",
    "\n",
    "for root, dirs, files in os.walk(\"./training/\"):\n",
    "    label = os.path.basename(root)\n",
    "    for file in files:\n",
    "        if file.endswith('.jpg'):\n",
    "            data['img_path'].append(os.path.join(root, file))\n",
    "            data['label'].append(label)\n",
    "\n",
    "df_data = pd.DataFrame(data)"
   ]
  },
  {
   "cell_type": "code",
   "execution_count": 86,
   "id": "6c0f0801",
   "metadata": {},
   "outputs": [
    {
     "data": {
      "text/html": [
       "<div>\n",
       "<style scoped>\n",
       "    .dataframe tbody tr th:only-of-type {\n",
       "        vertical-align: middle;\n",
       "    }\n",
       "\n",
       "    .dataframe tbody tr th {\n",
       "        vertical-align: top;\n",
       "    }\n",
       "\n",
       "    .dataframe thead th {\n",
       "        text-align: right;\n",
       "    }\n",
       "</style>\n",
       "<table border=\"1\" class=\"dataframe\">\n",
       "  <thead>\n",
       "    <tr style=\"text-align: right;\">\n",
       "      <th></th>\n",
       "      <th>img_path</th>\n",
       "      <th>label</th>\n",
       "    </tr>\n",
       "  </thead>\n",
       "  <tbody>\n",
       "    <tr>\n",
       "      <th>0</th>\n",
       "      <td>./training/Forest/63.jpg</td>\n",
       "      <td>Forest</td>\n",
       "    </tr>\n",
       "    <tr>\n",
       "      <th>1</th>\n",
       "      <td>./training/Forest/77.jpg</td>\n",
       "      <td>Forest</td>\n",
       "    </tr>\n",
       "    <tr>\n",
       "      <th>2</th>\n",
       "      <td>./training/Forest/88.jpg</td>\n",
       "      <td>Forest</td>\n",
       "    </tr>\n",
       "    <tr>\n",
       "      <th>3</th>\n",
       "      <td>./training/Forest/89.jpg</td>\n",
       "      <td>Forest</td>\n",
       "    </tr>\n",
       "    <tr>\n",
       "      <th>4</th>\n",
       "      <td>./training/Forest/76.jpg</td>\n",
       "      <td>Forest</td>\n",
       "    </tr>\n",
       "  </tbody>\n",
       "</table>\n",
       "</div>"
      ],
      "text/plain": [
       "                   img_path   label\n",
       "0  ./training/Forest/63.jpg  Forest\n",
       "1  ./training/Forest/77.jpg  Forest\n",
       "2  ./training/Forest/88.jpg  Forest\n",
       "3  ./training/Forest/89.jpg  Forest\n",
       "4  ./training/Forest/76.jpg  Forest"
      ]
     },
     "execution_count": 86,
     "metadata": {},
     "output_type": "execute_result"
    }
   ],
   "source": [
    "df_data.head()"
   ]
  },
  {
   "cell_type": "markdown",
   "id": "63277fb7",
   "metadata": {},
   "source": [
    "## 2. Feature extraction"
   ]
  },
  {
   "cell_type": "code",
   "execution_count": 88,
   "id": "70440028",
   "metadata": {},
   "outputs": [
    {
     "data": {
      "text/html": [
       "<div>\n",
       "<style scoped>\n",
       "    .dataframe tbody tr th:only-of-type {\n",
       "        vertical-align: middle;\n",
       "    }\n",
       "\n",
       "    .dataframe tbody tr th {\n",
       "        vertical-align: top;\n",
       "    }\n",
       "\n",
       "    .dataframe thead th {\n",
       "        text-align: right;\n",
       "    }\n",
       "</style>\n",
       "<table border=\"1\" class=\"dataframe\">\n",
       "  <thead>\n",
       "    <tr style=\"text-align: right;\">\n",
       "      <th></th>\n",
       "      <th>img_path</th>\n",
       "      <th>label</th>\n",
       "      <th>features</th>\n",
       "    </tr>\n",
       "  </thead>\n",
       "  <tbody>\n",
       "    <tr>\n",
       "      <th>0</th>\n",
       "      <td>./training/Forest/63.jpg</td>\n",
       "      <td>Forest</td>\n",
       "      <td>[0.023682598039215685, 0.023682598039215685, 0...</td>\n",
       "    </tr>\n",
       "    <tr>\n",
       "      <th>1</th>\n",
       "      <td>./training/Forest/77.jpg</td>\n",
       "      <td>Forest</td>\n",
       "      <td>[0.008118872549019608, 0.06302083333333333, 0....</td>\n",
       "    </tr>\n",
       "    <tr>\n",
       "      <th>2</th>\n",
       "      <td>./training/Forest/88.jpg</td>\n",
       "      <td>Forest</td>\n",
       "      <td>[-0.007613357843137255, -0.07428002450980392, ...</td>\n",
       "    </tr>\n",
       "    <tr>\n",
       "      <th>3</th>\n",
       "      <td>./training/Forest/89.jpg</td>\n",
       "      <td>Forest</td>\n",
       "      <td>[0.27987132352941174, 0.35830269607843135, 0.4...</td>\n",
       "    </tr>\n",
       "    <tr>\n",
       "      <th>4</th>\n",
       "      <td>./training/Forest/76.jpg</td>\n",
       "      <td>Forest</td>\n",
       "      <td>[-0.13118872549019608, -0.09589460784313726, 0...</td>\n",
       "    </tr>\n",
       "  </tbody>\n",
       "</table>\n",
       "</div>"
      ],
      "text/plain": [
       "                   img_path   label  \\\n",
       "0  ./training/Forest/63.jpg  Forest   \n",
       "1  ./training/Forest/77.jpg  Forest   \n",
       "2  ./training/Forest/88.jpg  Forest   \n",
       "3  ./training/Forest/89.jpg  Forest   \n",
       "4  ./training/Forest/76.jpg  Forest   \n",
       "\n",
       "                                            features  \n",
       "0  [0.023682598039215685, 0.023682598039215685, 0...  \n",
       "1  [0.008118872549019608, 0.06302083333333333, 0....  \n",
       "2  [-0.007613357843137255, -0.07428002450980392, ...  \n",
       "3  [0.27987132352941174, 0.35830269607843135, 0.4...  \n",
       "4  [-0.13118872549019608, -0.09589460784313726, 0...  "
      ]
     },
     "execution_count": 88,
     "metadata": {},
     "output_type": "execute_result"
    }
   ],
   "source": [
    "df_data['features'] = feature_extraction_r1(df_data['img_path'])"
   ]
  },
  {
   "cell_type": "markdown",
   "id": "0154396b",
   "metadata": {},
   "source": [
    "## 3.Train - Validation Split"
   ]
  },
  {
   "cell_type": "code",
   "execution_count": null,
   "id": "8fc57a1f",
   "metadata": {},
   "outputs": [],
   "source": [
    "X = np.array(df_data['features'].to_list())\n",
    "y = np.array(df_data['label'].to_list())\n",
    "print(X.shape, y.shape)\n",
    "\n",
    "# split data into train and val set with 10% data in the val set.\n",
    "X_train, X_val, y_train, y_val = train_test_split(X, y, test_size=0.2, random_state = 521)"
   ]
  },
  {
   "cell_type": "markdown",
   "id": "c82a680d",
   "metadata": {},
   "source": [
    "##  4. Classifier : k neighbour classifier"
   ]
  },
  {
   "cell_type": "code",
   "execution_count": 92,
   "id": "826b4294",
   "metadata": {},
   "outputs": [
    {
     "data": {
      "text/html": [
       "<style>#sk-container-id-11 {color: black;background-color: white;}#sk-container-id-11 pre{padding: 0;}#sk-container-id-11 div.sk-toggleable {background-color: white;}#sk-container-id-11 label.sk-toggleable__label {cursor: pointer;display: block;width: 100%;margin-bottom: 0;padding: 0.3em;box-sizing: border-box;text-align: center;}#sk-container-id-11 label.sk-toggleable__label-arrow:before {content: \"▸\";float: left;margin-right: 0.25em;color: #696969;}#sk-container-id-11 label.sk-toggleable__label-arrow:hover:before {color: black;}#sk-container-id-11 div.sk-estimator:hover label.sk-toggleable__label-arrow:before {color: black;}#sk-container-id-11 div.sk-toggleable__content {max-height: 0;max-width: 0;overflow: hidden;text-align: left;background-color: #f0f8ff;}#sk-container-id-11 div.sk-toggleable__content pre {margin: 0.2em;color: black;border-radius: 0.25em;background-color: #f0f8ff;}#sk-container-id-11 input.sk-toggleable__control:checked~div.sk-toggleable__content {max-height: 200px;max-width: 100%;overflow: auto;}#sk-container-id-11 input.sk-toggleable__control:checked~label.sk-toggleable__label-arrow:before {content: \"▾\";}#sk-container-id-11 div.sk-estimator input.sk-toggleable__control:checked~label.sk-toggleable__label {background-color: #d4ebff;}#sk-container-id-11 div.sk-label input.sk-toggleable__control:checked~label.sk-toggleable__label {background-color: #d4ebff;}#sk-container-id-11 input.sk-hidden--visually {border: 0;clip: rect(1px 1px 1px 1px);clip: rect(1px, 1px, 1px, 1px);height: 1px;margin: -1px;overflow: hidden;padding: 0;position: absolute;width: 1px;}#sk-container-id-11 div.sk-estimator {font-family: monospace;background-color: #f0f8ff;border: 1px dotted black;border-radius: 0.25em;box-sizing: border-box;margin-bottom: 0.5em;}#sk-container-id-11 div.sk-estimator:hover {background-color: #d4ebff;}#sk-container-id-11 div.sk-parallel-item::after {content: \"\";width: 100%;border-bottom: 1px solid gray;flex-grow: 1;}#sk-container-id-11 div.sk-label:hover label.sk-toggleable__label {background-color: #d4ebff;}#sk-container-id-11 div.sk-serial::before {content: \"\";position: absolute;border-left: 1px solid gray;box-sizing: border-box;top: 0;bottom: 0;left: 50%;z-index: 0;}#sk-container-id-11 div.sk-serial {display: flex;flex-direction: column;align-items: center;background-color: white;padding-right: 0.2em;padding-left: 0.2em;position: relative;}#sk-container-id-11 div.sk-item {position: relative;z-index: 1;}#sk-container-id-11 div.sk-parallel {display: flex;align-items: stretch;justify-content: center;background-color: white;position: relative;}#sk-container-id-11 div.sk-item::before, #sk-container-id-11 div.sk-parallel-item::before {content: \"\";position: absolute;border-left: 1px solid gray;box-sizing: border-box;top: 0;bottom: 0;left: 50%;z-index: -1;}#sk-container-id-11 div.sk-parallel-item {display: flex;flex-direction: column;z-index: 1;position: relative;background-color: white;}#sk-container-id-11 div.sk-parallel-item:first-child::after {align-self: flex-end;width: 50%;}#sk-container-id-11 div.sk-parallel-item:last-child::after {align-self: flex-start;width: 50%;}#sk-container-id-11 div.sk-parallel-item:only-child::after {width: 0;}#sk-container-id-11 div.sk-dashed-wrapped {border: 1px dashed gray;margin: 0 0.4em 0.5em 0.4em;box-sizing: border-box;padding-bottom: 0.4em;background-color: white;}#sk-container-id-11 div.sk-label label {font-family: monospace;font-weight: bold;display: inline-block;line-height: 1.2em;}#sk-container-id-11 div.sk-label-container {text-align: center;}#sk-container-id-11 div.sk-container {/* jupyter's `normalize.less` sets `[hidden] { display: none; }` but bootstrap.min.css set `[hidden] { display: none !important; }` so we also need the `!important` here to be able to override the default hidden behavior on the sphinx rendered scikit-learn.org. See: https://github.com/scikit-learn/scikit-learn/issues/21755 */display: inline-block !important;position: relative;}#sk-container-id-11 div.sk-text-repr-fallback {display: none;}</style><div id=\"sk-container-id-11\" class=\"sk-top-container\"><div class=\"sk-text-repr-fallback\"><pre>KNeighborsClassifier(n_neighbors=100)</pre><b>In a Jupyter environment, please rerun this cell to show the HTML representation or trust the notebook. <br />On GitHub, the HTML representation is unable to render, please try loading this page with nbviewer.org.</b></div><div class=\"sk-container\" hidden><div class=\"sk-item\"><div class=\"sk-estimator sk-toggleable\"><input class=\"sk-toggleable__control sk-hidden--visually\" id=\"sk-estimator-id-11\" type=\"checkbox\" checked><label for=\"sk-estimator-id-11\" class=\"sk-toggleable__label sk-toggleable__label-arrow\">KNeighborsClassifier</label><div class=\"sk-toggleable__content\"><pre>KNeighborsClassifier(n_neighbors=100)</pre></div></div></div></div></div>"
      ],
      "text/plain": [
       "KNeighborsClassifier(n_neighbors=100)"
      ]
     },
     "execution_count": 92,
     "metadata": {},
     "output_type": "execute_result"
    }
   ],
   "source": [
    "# instantiate k neighbour classifier with 100 clusters\n",
    "neigh = KNeighborsClassifier(n_neighbors=100)\n",
    "# fit classifier on training data and train labels\n",
    "neigh.fit(X_train, y_train)"
   ]
  },
  {
   "cell_type": "code",
   "execution_count": 93,
   "id": "c56adf2c",
   "metadata": {},
   "outputs": [
    {
     "data": {
      "text/plain": [
       "0.2"
      ]
     },
     "execution_count": 93,
     "metadata": {},
     "output_type": "execute_result"
    }
   ],
   "source": [
    "# calculate accuracy of test data\n",
    "accuracy_score(y_val, neigh.predict(X_test))"
   ]
  },
  {
   "cell_type": "markdown",
   "id": "755eab4d",
   "metadata": {},
   "source": [
    "## 7. Making Predictions"
   ]
  },
  {
   "cell_type": "markdown",
   "id": "3e12cab4",
   "metadata": {},
   "source": [
    "### Making Predicitions on Validation set"
   ]
  },
  {
   "cell_type": "code",
   "execution_count": 95,
   "id": "afe45cc2",
   "metadata": {},
   "outputs": [
    {
     "name": "stdout",
     "output_type": "stream",
     "text": [
      "accuracy: 0.2\n",
      "              precision    recall  f1-score   support\n",
      "\n",
      "       Coast       0.23      0.25      0.24        20\n",
      "      Forest       0.14      0.74      0.23        23\n",
      "     Highway       0.15      0.90      0.26        20\n",
      "  Insidecity       0.00      0.00      0.00        18\n",
      "    Mountain       0.00      0.00      0.00        26\n",
      "      Office       0.33      0.05      0.09        19\n",
      " OpenCountry       0.57      0.17      0.27        23\n",
      "      Street       0.62      0.71      0.67        14\n",
      "      Suburb       1.00      0.14      0.24        22\n",
      "TallBuilding       0.29      0.10      0.14        21\n",
      "     bedroom       0.00      0.00      0.00        21\n",
      "  industrial       0.00      0.00      0.00        19\n",
      "     kitchen       0.00      0.00      0.00        16\n",
      "  livingroom       0.00      0.00      0.00        21\n",
      "       store       0.00      0.00      0.00        17\n",
      "\n",
      "    accuracy                           0.20       300\n",
      "   macro avg       0.22      0.20      0.14       300\n",
      "weighted avg       0.22      0.20      0.14       300\n",
      "\n"
     ]
    },
    {
     "name": "stderr",
     "output_type": "stream",
     "text": [
      "/opt/homebrew/Caskroom/miniforge/base/envs/soton/lib/python3.8/site-packages/sklearn/metrics/_classification.py:1344: UndefinedMetricWarning: Precision and F-score are ill-defined and being set to 0.0 in labels with no predicted samples. Use `zero_division` parameter to control this behavior.\n",
      "  _warn_prf(average, modifier, msg_start, len(result))\n",
      "/opt/homebrew/Caskroom/miniforge/base/envs/soton/lib/python3.8/site-packages/sklearn/metrics/_classification.py:1344: UndefinedMetricWarning: Precision and F-score are ill-defined and being set to 0.0 in labels with no predicted samples. Use `zero_division` parameter to control this behavior.\n",
      "  _warn_prf(average, modifier, msg_start, len(result))\n",
      "/opt/homebrew/Caskroom/miniforge/base/envs/soton/lib/python3.8/site-packages/sklearn/metrics/_classification.py:1344: UndefinedMetricWarning: Precision and F-score are ill-defined and being set to 0.0 in labels with no predicted samples. Use `zero_division` parameter to control this behavior.\n",
      "  _warn_prf(average, modifier, msg_start, len(result))\n"
     ]
    }
   ],
   "source": [
    "# generate the classification report\n",
    "y_pred = neigh.predict(X_test)\n",
    "print('accuracy:', accuracy_score(y_val, y_pred))\n",
    "print(classification_report(y_val, y_pred))"
   ]
  },
  {
   "cell_type": "code",
   "execution_count": 96,
   "id": "69d48c0f",
   "metadata": {},
   "outputs": [
    {
     "data": {
      "text/plain": [
       "array([[ 5,  5,  8,  0,  0,  0,  2,  0,  0,  0,  0,  0,  0,  0,  0],\n",
       "       [ 2, 17,  4,  0,  0,  0,  0,  0,  0,  0,  0,  0,  0,  0,  0],\n",
       "       [ 0,  2, 18,  0,  0,  0,  0,  0,  0,  0,  0,  0,  0,  0,  0],\n",
       "       [ 1, 10,  7,  0,  0,  0,  0,  0,  0,  0,  0,  0,  0,  0,  0],\n",
       "       [ 3, 17,  6,  0,  0,  0,  0,  0,  0,  0,  0,  0,  0,  0,  0],\n",
       "       [ 3,  6,  8,  0,  0,  1,  0,  0,  0,  1,  0,  0,  0,  0,  0],\n",
       "       [ 0,  8, 11,  0,  0,  0,  4,  0,  0,  0,  0,  0,  0,  0,  0],\n",
       "       [ 0,  2,  1,  0,  0,  0,  0, 10,  0,  1,  0,  0,  0,  0,  0],\n",
       "       [ 1,  4,  8,  1,  0,  1,  1,  3,  3,  0,  0,  0,  0,  0,  0],\n",
       "       [ 0, 11,  7,  0,  0,  0,  0,  1,  0,  2,  0,  0,  0,  0,  0],\n",
       "       [ 2,  8,  8,  0,  0,  1,  0,  0,  0,  2,  0,  0,  0,  0,  0],\n",
       "       [ 2,  3, 12,  0,  0,  0,  0,  1,  0,  1,  0,  0,  0,  0,  0],\n",
       "       [ 2,  9,  5,  0,  0,  0,  0,  0,  0,  0,  0,  0,  0,  0,  0],\n",
       "       [ 1,  8, 11,  1,  0,  0,  0,  0,  0,  0,  0,  0,  0,  0,  0],\n",
       "       [ 0, 13,  3,  0,  0,  0,  0,  1,  0,  0,  0,  0,  0,  0,  0]])"
      ]
     },
     "execution_count": 96,
     "metadata": {},
     "output_type": "execute_result"
    }
   ],
   "source": [
    "print(confusion_matrix(y_val, y_pred))          # Printing confusion matrix of validation set"
   ]
  },
  {
   "cell_type": "markdown",
   "id": "17dc079e",
   "metadata": {},
   "source": [
    "### Making Predicitions on Test set"
   ]
  },
  {
   "cell_type": "code",
   "execution_count": 78,
   "id": "899b5c9c",
   "metadata": {},
   "outputs": [],
   "source": [
    "# Reading the test Dataset\n",
    "test_file_name = []\n",
    "for root, dirs, files in os.walk(\"./testing/testing\"):\n",
    "    label = os.path.basename(root)\n",
    "    for file in files:\n",
    "        if file.endswith('.jpg'):\n",
    "            test_file_name.append(os.path.join(root, file))\n",
    "\n",
    "test_data = feature_extraction_r1(test_file_name) #Extracting feature from test data\n",
    "\n",
    "\n",
    "y_pred = neigh.predict(test_data) # prediction"
   ]
  },
  {
   "cell_type": "code",
   "execution_count": 75,
   "id": "7e556f7e",
   "metadata": {},
   "outputs": [
    {
     "name": "stdout",
     "output_type": "stream",
     "text": [
      "Done\n"
     ]
    }
   ],
   "source": [
    "#Storing predictions in a datframe for testing dataset\n",
    "lists = [m + \" \" + n for m, n in zip(test_file_name, y_pred)]\n",
    "re = pd.DataFrame(lists, columns=['Name'])\n",
    "re['Num'] = [int(x.split('.')[0]) for x in re['Name']]\n",
    "re = re.sort_values(by=['Num'])\n",
    "re = re.reset_index()\n",
    "sub = list(re['Name'])\n",
    "\n",
    "with open(r'output/run1.txt', 'w') as fp:\n",
    "    for item in sub:\n",
    "        # write each item on a new line\n",
    "        fp.write(\"%s\\n\" % item)\n",
    "    print('Done')\n"
   ]
  }
 ],
 "metadata": {
  "kernelspec": {
   "display_name": "Python 3 (ipykernel)",
   "language": "python",
   "name": "python3"
  },
  "language_info": {
   "codemirror_mode": {
    "name": "ipython",
    "version": 3
   },
   "file_extension": ".py",
   "mimetype": "text/x-python",
   "name": "python",
   "nbconvert_exporter": "python",
   "pygments_lexer": "ipython3",
   "version": "3.8.16"
  }
 },
 "nbformat": 4,
 "nbformat_minor": 5
}
